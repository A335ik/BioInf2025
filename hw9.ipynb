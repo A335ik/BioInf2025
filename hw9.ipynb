{
  "nbformat": 4,
  "nbformat_minor": 0,
  "metadata": {
    "colab": {
      "provenance": []
    },
    "kernelspec": {
      "name": "python3",
      "display_name": "Python 3"
    },
    "language_info": {
      "name": "python"
    }
  },
  "cells": [
    {
      "cell_type": "code",
      "execution_count": 10,
      "metadata": {
        "id": "IVYs3Ys_hODx"
      },
      "outputs": [],
      "source": [
        "import pandas as pd\n",
        "import numpy as np\n",
        "import scipy.stats as sps\n",
        "import seaborn as sns"
      ]
    },
    {
      "cell_type": "code",
      "source": [
        " sample = sps.uniform.rvs(size=50)\n"
      ],
      "metadata": {
        "id": "uUCPwjMmkYXs"
      },
      "execution_count": 11,
      "outputs": []
    },
    {
      "cell_type": "code",
      "source": [
        "sns.boxplot(data=sample)"
      ],
      "metadata": {
        "colab": {
          "base_uri": "https://localhost:8080/",
          "height": 429
        },
        "id": "G0EAnkotlD_v",
        "outputId": "a6436d3d-d419-4099-da17-b06592962232"
      },
      "execution_count": 12,
      "outputs": [
        {
          "output_type": "execute_result",
          "data": {
            "text/plain": [
              "<Axes: >"
            ]
          },
          "metadata": {},
          "execution_count": 12
        },
        {
          "output_type": "display_data",
          "data": {
            "text/plain": [
              "<Figure size 640x480 with 1 Axes>"
            ],
            "image/png": "[encoded data removed]"
          },
          "metadata": {}
        }
      ]
    },
    {
      "cell_type": "markdown",
      "source": [
        "Ящик для равномерного распределения"
      ],
      "metadata": {
        "id": "0wE3TYanT7wk"
      }
    },
    {
      "cell_type": "code",
      "source": [
        "sample = np.array([79, 80, 80, 80, 74, 80, 80, 79, 64, 78, 73, 78, 74, 45, 81, 48, 80, 82, 82, 70])"
      ],
      "metadata": {
        "id": "K-QK0nMal0Vh"
      },
      "execution_count": 13,
      "outputs": []
    },
    {
      "cell_type": "markdown",
      "source": [
        "Квантили"
      ],
      "metadata": {
        "id": "8XcsxLsUZdCN"
      }
    },
    {
      "cell_type": "code",
      "source": [
        "Q0 = np.quantile(sample, 0)\n",
        "Q1 = np.quantile(sample, 0.25)\n",
        "Q2 = np.quantile(sample, 0.5)\n",
        "Q3 = np.quantile(sample, 0.75)\n",
        "Q4 = np.quantile(sample, 1)"
      ],
      "metadata": {
        "id": "iddvk_hqmJ55"
      },
      "execution_count": 14,
      "outputs": []
    },
    {
      "cell_type": "markdown",
      "source": [
        "Межквантильный размах"
      ],
      "metadata": {
        "id": "_GiTEF7OZgS2"
      }
    },
    {
      "cell_type": "code",
      "source": [
        "D = Q3 - Q1\n",
        "print(D)"
      ],
      "metadata": {
        "colab": {
          "base_uri": "https://localhost:8080/"
        },
        "id": "A1Ig_ViCtOa4",
        "outputId": "97998b69-1837-43f6-e934-ceb81378c3b3"
      },
      "execution_count": 15,
      "outputs": [
        {
          "output_type": "stream",
          "name": "stdout",
          "text": [
            "6.25\n"
          ]
        }
      ]
    },
    {
      "cell_type": "code",
      "source": [
        "print('Максимум', Q4)\n",
        "print('Граница третьего квантиля', Q3)\n",
        "print('Медиана', Q2)\n",
        "print('Граница первого квантиля', Q1)\n",
        "print('Минимум', Q0)"
      ],
      "metadata": {
        "colab": {
          "base_uri": "https://localhost:8080/"
        },
        "id": "lcV7Ur7YtfTO",
        "outputId": "1e238bc1-8caf-4f10-b8b7-6034459ddf2e"
      },
      "execution_count": 16,
      "outputs": [
        {
          "output_type": "stream",
          "name": "stdout",
          "text": [
            "Максимум 82\n",
            "Граница третьего квантиля 80.0\n",
            "Медиана 79.0\n",
            "Граница первого квантиля 73.75\n",
            "Минимум 45\n"
          ]
        }
      ]
    },
    {
      "cell_type": "markdown",
      "source": [
        "Выбросы"
      ],
      "metadata": {
        "id": "sOO6iIWJWVxn"
      }
    },
    {
      "cell_type": "code",
      "source": [
        "upper_border = Q3 + 1.5 * D\n",
        "lower_border = Q1 - 1.5 * D\n",
        "outliers = sample[(sample < lower_border) | (sample > upper_border)]\n",
        "print('Граница верхних выбросов', upper_border)\n",
        "print('Граница нижних выбросов', lower_border)\n",
        "print('Выбросы: ', outliers)"
      ],
      "metadata": {
        "colab": {
          "base_uri": "https://localhost:8080/"
        },
        "id": "HtraWNypt2k8",
        "outputId": "332be8ac-d533-4720-909d-545f40b702d5"
      },
      "execution_count": 17,
      "outputs": [
        {
          "output_type": "stream",
          "name": "stdout",
          "text": [
            "Граница верхних выбросов 89.375\n",
            "Граница нижних выбросов 64.375\n",
            "Выбросы:  [64 45 48]\n"
          ]
        }
      ]
    },
    {
      "cell_type": "code",
      "source": [
        "sns.boxplot(data=sample)"
      ],
      "metadata": {
        "colab": {
          "base_uri": "https://localhost:8080/",
          "height": 429
        },
        "id": "okBOyEgLmGaZ",
        "outputId": "c1fc2da9-34f3-4bb1-bad6-7f587e0c5c99"
      },
      "execution_count": 18,
      "outputs": [
        {
          "output_type": "execute_result",
          "data": {
            "text/plain": [
              "<Axes: >"
            ]
          },
          "metadata": {},
          "execution_count": 18
        },
        {
          "output_type": "display_data",
          "data": {
            "text/plain": [
              "<Figure size 640x480 with 1 Axes>"
            ],
            "image/png": "[encoded data removed]"
          },
          "metadata": {}
        }
      ]
    }
  ]
}