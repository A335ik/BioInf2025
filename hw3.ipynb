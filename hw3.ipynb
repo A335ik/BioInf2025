{
  "cells": [
    {
      "cell_type": "markdown",
      "source": [
        "# 1. Выравнивание вручную"
      ],
      "metadata": {
        "id": "znnPCia8VlW2"
      },
      "id": "znnPCia8VlW2"
    },
    {
      "cell_type": "markdown",
      "id": "17667e4a-6e68-4a17-89ef-26ee5b50668c",
      "metadata": {
        "id": "17667e4a-6e68-4a17-89ef-26ee5b50668c"
      },
      "source": [
        "# 2. Выравнивание с использованием алгоритма Нидлмана-Вунша"
      ]
    },
    {
      "cell_type": "code",
      "execution_count": 11,
      "id": "c5cf143a-c3b2-40d4-aa29-7e98c56810e0",
      "metadata": {
        "id": "c5cf143a-c3b2-40d4-aa29-7e98c56810e0"
      },
      "outputs": [],
      "source": [
        "sequences = [['CGTCTT', 'CATTCT'], ['CAAGCT', 'CATTGT'], ['AAATAAA', 'ATCTAA']]\n",
        "matches = [1, 1, 1]\n",
        "mismatches = [-1, -1, -1]\n",
        "indels = [-2, -1, -1]"
      ]
    },
    {
      "cell_type": "code",
      "execution_count": 12,
      "id": "7b0225f8-8ea2-4074-bde6-2dd5d39b7c24",
      "metadata": {
        "id": "7b0225f8-8ea2-4074-bde6-2dd5d39b7c24"
      },
      "outputs": [],
      "source": [
        "def needleman_wunsch(sequence, match, mismatch, indel):\n",
        "    seq1 = sequence[0]\n",
        "    seq2 = sequence[1]\n",
        "    dp = [[0] * (len(seq2) + 1) for _ in range(len(seq1) + 1)]\n",
        "\n",
        "    for i in range(len(seq1) + 1):\n",
        "        dp[i][0] = indel * i\n",
        "    for j in range(len(seq2) + 1):\n",
        "        dp[0][j] = indel * j\n",
        "\n",
        "    for i in range(1, len(seq1) + 1):\n",
        "        for j in range(1, len(seq2) + 1):\n",
        "          if seq1[i - 1] == seq2[j - 1]:\n",
        "            score = match\n",
        "          else:\n",
        "            score = mismatch\n",
        "          dp[i][j] = max(dp[i - 1][j - 1] + score,\n",
        "                           dp[i - 1][j] + indel,\n",
        "                           dp[i][j - 1] + indel)\n",
        "\n",
        "    return dp"
      ]
    },
    {
      "cell_type": "code",
      "execution_count": 13,
      "id": "38b885a9-6c64-4972-9aff-6cf55e1e0a9f",
      "metadata": {
        "id": "38b885a9-6c64-4972-9aff-6cf55e1e0a9f"
      },
      "outputs": [],
      "source": [
        "def traceback(dp, sequence, match, mismatch, indel):\n",
        "    seq1 = sequence[0]\n",
        "    seq2 = sequence[1]\n",
        "    resseq1 = \"\"\n",
        "    resseq2 = \"\"\n",
        "    i = len(seq1)\n",
        "    j = len(seq2)\n",
        "\n",
        "    while i > 0 or j > 0:\n",
        "        if i > 0 and j > 0 and dp[i][j] == dp[i - 1][j - 1] + (match if seq1[i - 1] == seq2[j - 1] else mismatch):\n",
        "            resseq1 = seq1[i - 1] + resseq1\n",
        "            resseq2 = seq2[j - 1] + resseq2\n",
        "            i -= 1\n",
        "            j -= 1\n",
        "        elif i > 0 and dp[i][j] == dp[i - 1][j] + indel:\n",
        "            resseq1 = seq1[i - 1] + resseq1\n",
        "            resseq2 = \"-\" + resseq2\n",
        "            i -= 1\n",
        "        else:\n",
        "            resseq1 = \"-\" + resseq1\n",
        "            resseq2 = seq2[j - 1] + resseq2\n",
        "            j -= 1\n",
        "\n",
        "    score = dp[len(seq1)][len(seq2)]\n",
        "    return resseq1, resseq2, score"
      ]
    },
    {
      "cell_type": "code",
      "source": [
        "traceback(needleman_wunsch(sequences[0], matches[0], mismatches[0], indels[0]), sequences[0], matches[0], mismatches[0], indels[0])"
      ],
      "metadata": {
        "colab": {
          "base_uri": "https://localhost:8080/"
        },
        "id": "GTFt57KcSOxd",
        "outputId": "21a896ac-05d4-4223-8041-4e956f5760ef"
      },
      "id": "GTFt57KcSOxd",
      "execution_count": 14,
      "outputs": [
        {
          "output_type": "execute_result",
          "data": {
            "text/plain": [
              "('CGTCTT', 'CATTCT', 0)"
            ]
          },
          "metadata": {},
          "execution_count": 14
        }
      ]
    },
    {
      "cell_type": "code",
      "execution_count": 15,
      "id": "752e15bc-3285-42c2-a396-0034bc21d407",
      "metadata": {
        "colab": {
          "base_uri": "https://localhost:8080/"
        },
        "id": "752e15bc-3285-42c2-a396-0034bc21d407",
        "outputId": "9db3e31b-929b-43bf-fe38-94d596a441a7"
      },
      "outputs": [
        {
          "output_type": "execute_result",
          "data": {
            "text/plain": [
              "('CA-AGCT', 'CATTG-T', 1)"
            ]
          },
          "metadata": {},
          "execution_count": 15
        }
      ],
      "source": [
        "traceback(needleman_wunsch(sequences[1], matches[1], mismatches[1], indels[1]), sequences[1], matches[1], mismatches[1], indels[1])"
      ]
    },
    {
      "cell_type": "code",
      "execution_count": 16,
      "id": "c67ea7d8-6d14-4889-9395-dd6189112891",
      "metadata": {
        "colab": {
          "base_uri": "https://localhost:8080/"
        },
        "id": "c67ea7d8-6d14-4889-9395-dd6189112891",
        "outputId": "583ea34f-f39e-42fc-d507-c04095522975"
      },
      "outputs": [
        {
          "output_type": "execute_result",
          "data": {
            "text/plain": [
              "('AAATAAA', 'ATCT-AA', 1)"
            ]
          },
          "metadata": {},
          "execution_count": 16
        }
      ],
      "source": [
        "traceback(needleman_wunsch(sequences[2], matches[2], mismatches[2], indels[2]), sequences[2], matches[2], mismatches[2], indels[2])"
      ]
    },
    {
      "cell_type": "markdown",
      "id": "e14fdb5d-c326-4afa-bb74-45bc60061cff",
      "metadata": {
        "id": "e14fdb5d-c326-4afa-bb74-45bc60061cff"
      },
      "source": [
        "# 3. Проверка с помощью глобального выравнивания Python"
      ]
    },
    {
      "cell_type": "code",
      "source": [
        "pip install biopython"
      ],
      "metadata": {
        "colab": {
          "base_uri": "https://localhost:8080/"
        },
        "id": "wgzrULnGw3mE",
        "outputId": "394b0f87-b081-4334-cf3d-32d47fdac582"
      },
      "id": "wgzrULnGw3mE",
      "execution_count": 17,
      "outputs": [
        {
          "output_type": "stream",
          "name": "stdout",
          "text": [
            "Requirement already satisfied: biopython in /usr/local/lib/python3.11/dist-packages (1.85)\n",
            "Requirement already satisfied: numpy in /usr/local/lib/python3.11/dist-packages (from biopython) (2.0.2)\n"
          ]
        }
      ]
    },
    {
      "cell_type": "code",
      "source": [
        "from Bio import pairwise2\n",
        "from Bio.pairwise2 import format_alignment"
      ],
      "metadata": {
        "id": "Lq_OSIiqXQO7"
      },
      "id": "Lq_OSIiqXQO7",
      "execution_count": 18,
      "outputs": []
    },
    {
      "cell_type": "code",
      "execution_count": 19,
      "id": "e469ad9a-4dd0-47d0-ae72-0d22f14ac20e",
      "metadata": {
        "id": "e469ad9a-4dd0-47d0-ae72-0d22f14ac20e"
      },
      "outputs": [],
      "source": [
        "\n",
        "def align(sequence, match, mismatch, indel):\n",
        "\n",
        "    # Глобальное выравнивание с заданными параметрами\n",
        "    global_alignments = pairwise2.align.globalms(sequence[0], sequence[1], match, mismatch, indel, indel)\n",
        "\n",
        "    if global_alignments:\n",
        "        best_alignment = global_alignments[0]\n",
        "        print(format_alignment(*best_alignment))\n",
        "    else:\n",
        "        print(\"No global alignment found.\")\n",
        "\n",
        "\n"
      ]
    },
    {
      "cell_type": "code",
      "source": [
        "align(sequences[0], matches[0], mismatches[0], indels[0])\n",
        "align(sequences[1], matches[1], mismatches[1], indels[1])\n",
        "align(sequences[2], matches[2], mismatches[2], indels[2])"
      ],
      "metadata": {
        "id": "AChLAUAOYf8A",
        "outputId": "0e591c85-69fd-4885-a760-74dffa4cdc37",
        "colab": {
          "base_uri": "https://localhost:8080/"
        }
      },
      "id": "AChLAUAOYf8A",
      "execution_count": 20,
      "outputs": [
        {
          "output_type": "stream",
          "name": "stdout",
          "text": [
            "CGTCTT\n",
            "|.|..|\n",
            "CATTCT\n",
            "  Score=0\n",
            "\n",
            "CAA-GCT\n",
            "||. | |\n",
            "CATTG-T\n",
            "  Score=1\n",
            "\n",
            "AAATAAA\n",
            "|..| ||\n",
            "ATCT-AA\n",
            "  Score=1\n",
            "\n"
          ]
        }
      ]
    }
  ],
  "metadata": {
    "kernelspec": {
      "display_name": "Python 3 (ipykernel)",
      "language": "python",
      "name": "python3"
    },
    "language_info": {
      "codemirror_mode": {
        "name": "ipython",
        "version": 3
      },
      "file_extension": ".py",
      "mimetype": "text/x-python",
      "name": "python",
      "nbconvert_exporter": "python",
      "pygments_lexer": "ipython3",
      "version": "3.12.9"
    },
    "colab": {
      "provenance": []
    }
  },
  "nbformat": 4,
  "nbformat_minor": 5
}