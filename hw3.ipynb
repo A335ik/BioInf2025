{
  "cells": [
    {
      "cell_type": "markdown",
      "id": "17667e4a-6e68-4a17-89ef-26ee5b50668c",
      "metadata": {
        "id": "17667e4a-6e68-4a17-89ef-26ee5b50668c"
      },
      "source": [
        "# 1. Выравнивание с использованием алгоритма Needleman-Wunsch"
      ]
    },
    {
      "cell_type": "code",
      "execution_count": 2,
      "id": "7b0225f8-8ea2-4074-bde6-2dd5d39b7c24",
      "metadata": {
        "id": "7b0225f8-8ea2-4074-bde6-2dd5d39b7c24"
      },
      "outputs": [],
      "source": [
        "def needleman_wunsch(seq1, seq2, mismatch, indel, match=1):\n",
        "    n = len(seq1)\n",
        "    m = len(seq2)\n",
        "\n",
        "    dp = [[0] * (m + 1) for _ in range(n + 1)]\n",
        "\n",
        "    for i in range(n + 1):\n",
        "        dp[i][0] = indel * i\n",
        "    for j in range(m + 1):\n",
        "        dp[0][j] = indel * j\n",
        "\n",
        "    for i in range(1, n + 1):\n",
        "        for j in range(1, m + 1):\n",
        "            score = match if seq1[i - 1] == seq2[j - 1] else mismatch\n",
        "            dp[i][j] = max(dp[i - 1][j - 1] + score,\n",
        "                           dp[i - 1][j] + indel,\n",
        "                           dp[i][j - 1] + indel)\n",
        "\n",
        "    return dp"
      ]
    },
    {
      "cell_type": "code",
      "execution_count": 3,
      "id": "c5cf143a-c3b2-40d4-aa29-7e98c56810e0",
      "metadata": {
        "id": "c5cf143a-c3b2-40d4-aa29-7e98c56810e0"
      },
      "outputs": [],
      "source": [
        "s11 = 'GACGAAG'\n",
        "s12 = 'ACCAAG'\n",
        "s21 = 'CGTCTT'\n",
        "s22 = 'CATTCT'\n",
        "s31 = 'ATGTCAC'\n",
        "s32 = 'ATCTCC'"
      ]
    },
    {
      "cell_type": "code",
      "execution_count": 6,
      "id": "61b7dd1b-decc-4c88-a702-2a2cd67a6b8a",
      "metadata": {
        "id": "61b7dd1b-decc-4c88-a702-2a2cd67a6b8a"
      },
      "outputs": [],
      "source": [
        "mismatch1 = -1\n",
        "mismatch2 = -1\n",
        "mismatch3 = -2\n",
        "indel1 = -1\n",
        "indel2 = -2\n",
        "indel3 = -2"
      ]
    },
    {
      "cell_type": "code",
      "execution_count": 7,
      "id": "592e2aea-57ab-49df-b2f1-a93b8ea1cdae",
      "metadata": {
        "id": "592e2aea-57ab-49df-b2f1-a93b8ea1cdae"
      },
      "outputs": [],
      "source": [
        "res1 = needleman_wunsch(s11, s12, mismatch1, indel1)\n",
        "res2 = needleman_wunsch(s21, s22, mismatch2, indel2)\n",
        "res3 = needleman_wunsch(s31, s32, mismatch3, indel3)"
      ]
    },
    {
      "cell_type": "code",
      "execution_count": 8,
      "id": "752e15bc-3285-42c2-a396-0034bc21d407",
      "metadata": {
        "colab": {
          "base_uri": "https://localhost:8080/"
        },
        "id": "752e15bc-3285-42c2-a396-0034bc21d407",
        "outputId": "5c12eb6a-44dd-46b0-ccef-0ce91c21fc72"
      },
      "outputs": [
        {
          "output_type": "execute_result",
          "data": {
            "text/plain": [
              "[[0, -1, -2, -3, -4, -5, -6],\n",
              " [-1, -1, -2, -3, -4, -5, -4],\n",
              " [-2, 0, -1, -2, -2, -3, -4],\n",
              " [-3, -1, 1, 0, -1, -2, -3],\n",
              " [-4, -2, 0, 0, -1, -2, -1],\n",
              " [-5, -3, -1, -1, 1, 0, -1],\n",
              " [-6, -4, -2, -2, 0, 2, 1],\n",
              " [-7, -5, -3, -3, -1, 1, 3]]"
            ]
          },
          "metadata": {},
          "execution_count": 8
        }
      ],
      "source": [
        "res1"
      ]
    },
    {
      "cell_type": "code",
      "execution_count": 9,
      "id": "c67ea7d8-6d14-4889-9395-dd6189112891",
      "metadata": {
        "colab": {
          "base_uri": "https://localhost:8080/"
        },
        "id": "c67ea7d8-6d14-4889-9395-dd6189112891",
        "outputId": "327c28a6-5f17-4b79-860f-6520f151bcfd"
      },
      "outputs": [
        {
          "output_type": "execute_result",
          "data": {
            "text/plain": [
              "[[0, -2, -4, -6, -8, -10, -12],\n",
              " [-2, 1, -1, -3, -5, -7, -9],\n",
              " [-4, -1, 0, -2, -4, -6, -8],\n",
              " [-6, -3, -2, 1, -1, -3, -5],\n",
              " [-8, -5, -4, -1, 0, 0, -2],\n",
              " [-10, -7, -6, -3, 0, -1, 1],\n",
              " [-12, -9, -8, -5, -2, -1, 0]]"
            ]
          },
          "metadata": {},
          "execution_count": 9
        }
      ],
      "source": [
        "res2"
      ]
    },
    {
      "cell_type": "code",
      "execution_count": 10,
      "id": "baec924e-a1f6-4ba6-a583-4b06067508e0",
      "metadata": {
        "colab": {
          "base_uri": "https://localhost:8080/"
        },
        "id": "baec924e-a1f6-4ba6-a583-4b06067508e0",
        "outputId": "bc55bc35-78d6-4c2a-9f1e-bc94e1b70607"
      },
      "outputs": [
        {
          "output_type": "execute_result",
          "data": {
            "text/plain": [
              "[[0, -2, -4, -6, -8, -10, -12],\n",
              " [-2, 1, -1, -3, -5, -7, -9],\n",
              " [-4, -1, 2, 0, -2, -4, -6],\n",
              " [-6, -3, 0, 0, -2, -4, -6],\n",
              " [-8, -5, -2, -2, 1, -1, -3],\n",
              " [-10, -7, -4, -1, -1, 2, 0],\n",
              " [-12, -9, -6, -3, -3, 0, 0],\n",
              " [-14, -11, -8, -5, -5, -2, 1]]"
            ]
          },
          "metadata": {},
          "execution_count": 10
        }
      ],
      "source": [
        "res3"
      ]
    },
    {
      "cell_type": "code",
      "execution_count": 11,
      "id": "38b885a9-6c64-4972-9aff-6cf55e1e0a9f",
      "metadata": {
        "id": "38b885a9-6c64-4972-9aff-6cf55e1e0a9f"
      },
      "outputs": [],
      "source": [
        "def traceback(dp, seq1, seq2, mismatch, indel, match=1):\n",
        "    n = len(seq1)\n",
        "    m = len(seq2)\n",
        "\n",
        "    resseq1 = \"\"\n",
        "    resseq2 = \"\"\n",
        "    i = n\n",
        "    j = m\n",
        "\n",
        "    while i > 0 or j > 0:\n",
        "        if i > 0 and j > 0 and dp[i][j] == dp[i - 1][j - 1] + (match if seq1[i - 1] == seq2[j - 1] else mismatch):\n",
        "            resseq1 = seq1[i - 1] + resseq1\n",
        "            resseq2 = seq2[j - 1] + resseq2\n",
        "            i -= 1\n",
        "            j -= 1\n",
        "        elif i > 0 and dp[i][j] == dp[i - 1][j] + indel:\n",
        "            resseq1 = seq1[i - 1] + resseq1\n",
        "            resseq2 = \"-\" + resseq2\n",
        "            i -= 1\n",
        "        else:\n",
        "            resseq1 = \"-\" + resseq1\n",
        "            resseq2 = seq2[j - 1] + resseq2\n",
        "            j -= 1\n",
        "\n",
        "    score = dp[n][m]\n",
        "    return resseq1, resseq2, score"
      ]
    },
    {
      "cell_type": "code",
      "execution_count": 12,
      "id": "a74b098f-d941-42a9-b70c-7d843a6bd7fc",
      "metadata": {
        "colab": {
          "base_uri": "https://localhost:8080/"
        },
        "id": "a74b098f-d941-42a9-b70c-7d843a6bd7fc",
        "outputId": "c811c5d9-252d-4861-aa8d-e8bcabdf02f7"
      },
      "outputs": [
        {
          "output_type": "stream",
          "name": "stdout",
          "text": [
            "('GACGAAG', '-ACCAAG', 3)\n",
            "('CGTCTT', 'CATTCT', 0)\n",
            "('ATGTCAC', 'ATCTC-C', 1)\n"
          ]
        }
      ],
      "source": [
        "print(traceback(res1, s11, s12, mismatch1, indel1))\n",
        "print(traceback(res2, s21, s22, mismatch2, indel2))\n",
        "print(traceback(res3, s31, s32, mismatch3, indel3))"
      ]
    },
    {
      "cell_type": "markdown",
      "id": "e14fdb5d-c326-4afa-bb74-45bc60061cff",
      "metadata": {
        "id": "e14fdb5d-c326-4afa-bb74-45bc60061cff"
      },
      "source": [
        "# 2. Выравнивание с использованием Python"
      ]
    },
    {
      "cell_type": "code",
      "source": [
        "pip install biopython"
      ],
      "metadata": {
        "colab": {
          "base_uri": "https://localhost:8080/"
        },
        "id": "wgzrULnGw3mE",
        "outputId": "91db569f-1330-4786-b3b8-6b92cd9f8338"
      },
      "id": "wgzrULnGw3mE",
      "execution_count": 14,
      "outputs": [
        {
          "output_type": "stream",
          "name": "stdout",
          "text": [
            "Collecting biopython\n",
            "  Downloading biopython-1.85-cp311-cp311-manylinux_2_17_x86_64.manylinux2014_x86_64.whl.metadata (13 kB)\n",
            "Requirement already satisfied: numpy in /usr/local/lib/python3.11/dist-packages (from biopython) (2.0.2)\n",
            "Downloading biopython-1.85-cp311-cp311-manylinux_2_17_x86_64.manylinux2014_x86_64.whl (3.3 MB)\n",
            "\u001b[2K   \u001b[90m━━━━━━━━━━━━━━━━━━━━━━━━━━━━━━━━━━━━━━━━\u001b[0m \u001b[32m3.3/3.3 MB\u001b[0m \u001b[31m31.8 MB/s\u001b[0m eta \u001b[36m0:00:00\u001b[0m\n",
            "\u001b[?25hInstalling collected packages: biopython\n",
            "Successfully installed biopython-1.85\n"
          ]
        }
      ]
    },
    {
      "cell_type": "code",
      "execution_count": 15,
      "id": "e469ad9a-4dd0-47d0-ae72-0d22f14ac20e",
      "metadata": {
        "colab": {
          "base_uri": "https://localhost:8080/"
        },
        "id": "e469ad9a-4dd0-47d0-ae72-0d22f14ac20e",
        "outputId": "481b06db-5871-4b6b-9f21-601a45cb60c1"
      },
      "outputs": [
        {
          "output_type": "stream",
          "name": "stdout",
          "text": [
            "--- Alignment for Pair: Sequence Pair 1 ---\n",
            "\n",
            "Global Alignment (Best):\n",
            "GACGAAG\n",
            " ||.|||\n",
            "-ACCAAG\n",
            "  Score=3\n",
            "\n",
            "Score: 3.0\n",
            "--- Alignment for Pair: Sequence Pair 2 ---\n",
            "\n",
            "Global Alignment (Best):\n",
            "CGTCTT\n",
            "|.|..|\n",
            "CATTCT\n",
            "  Score=0\n",
            "\n",
            "Score: 0.0\n",
            "--- Alignment for Pair: Sequence Pair 3 ---\n",
            "\n",
            "Global Alignment (Best):\n",
            "ATGTCAC\n",
            "||.|| |\n",
            "ATCTC-C\n",
            "  Score=1\n",
            "\n",
            "Score: 1.0\n"
          ]
        },
        {
          "output_type": "stream",
          "name": "stderr",
          "text": [
            "/usr/local/lib/python3.11/dist-packages/Bio/pairwise2.py:278: BiopythonDeprecationWarning: Bio.pairwise2 has been deprecated, and we intend to remove it in a future release of Biopython. As an alternative, please consider using Bio.Align.PairwiseAligner as a replacement, and contact the Biopython developers if you still need the Bio.pairwise2 module.\n",
            "  warnings.warn(\n"
          ]
        }
      ],
      "source": [
        "from Bio import pairwise2\n",
        "from Bio.pairwise2 import format_alignment\n",
        "\n",
        "def align_and_print(seq1, seq2, pair_name, mismatch, indel, match=1):\n",
        "    print(f\"--- Alignment for Pair: {pair_name} ---\")\n",
        "\n",
        "    # Глобальное выравнивание с заданными параметрами\n",
        "    global_alignments = pairwise2.align.globalms(seq1, seq2, match, mismatch, indel, indel)\n",
        "\n",
        "    print(\"\\nGlobal Alignment (Best):\")\n",
        "    if global_alignments:\n",
        "        best_alignment = global_alignments[0] # Выбираем первое выравнивание (считаем его лучшим)\n",
        "        print(format_alignment(*best_alignment))\n",
        "        print(f\"Score: {best_alignment[2]}\") # выводим score\n",
        "    else:\n",
        "        print(\"No global alignment found.\")\n",
        "\n",
        "\n",
        "# Выполняем выравнивание для каждой пары последовательностей\n",
        "align_and_print(s11, s12, \"Sequence Pair 1\", mismatch1, indel1)\n",
        "align_and_print(s21, s22, \"Sequence Pair 2\", mismatch2, indel2)\n",
        "align_and_print(s31, s32, \"Sequence Pair 3\", mismatch3, indel3)"
      ]
    }
  ],
  "metadata": {
    "kernelspec": {
      "display_name": "Python 3 (ipykernel)",
      "language": "python",
      "name": "python3"
    },
    "language_info": {
      "codemirror_mode": {
        "name": "ipython",
        "version": 3
      },
      "file_extension": ".py",
      "mimetype": "text/x-python",
      "name": "python",
      "nbconvert_exporter": "python",
      "pygments_lexer": "ipython3",
      "version": "3.12.9"
    },
    "colab": {
      "provenance": []
    }
  },
  "nbformat": 4,
  "nbformat_minor": 5
}