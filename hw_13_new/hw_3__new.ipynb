{
  "cells": [
    {
      "cell_type": "markdown",
      "source": [
        "Алгортим:"
      ],
      "metadata": {
        "id": "EcMVT99r_NkY"
      },
      "id": "EcMVT99r_NkY"
    },
    {
      "cell_type": "code",
      "source": [
        "def needleman_wunsch(seq1, seq2, indel, match, mismatch):\n",
        "\n",
        "    score_matrix = [[0]*(len(seq1)+1) for i in range(len(seq2)+1)]\n",
        "\n",
        "    for i in range(1,len(score_matrix[0])):\n",
        "        score_matrix[0][i] = i*indel\n",
        "    for i in range(1,len(score_matrix)):\n",
        "        score_matrix[i][0] = i*indel\n",
        "\n",
        "    for i in range(1,len(score_matrix[0])):\n",
        "        for j in range(1,len(score_matrix)):\n",
        "            v = score_matrix[j][i-1] + indel\n",
        "            u = score_matrix[j-1][i] + indel\n",
        "            if seq1[i-1] == seq2[j-1]:\n",
        "                s = score_matrix[j-1][i-1] + match\n",
        "            else:\n",
        "                s = score_matrix[j-1][i-1] + mismatch\n",
        "            score_matrix[j][i] = max(v,u,s)\n",
        "\n",
        "    print('score=',score_matrix[len(score_matrix)-1][len(score_matrix[0])-1])\n",
        "\n",
        "    seq1_align = ''\n",
        "    seq2_align = ''\n",
        "    while (i>0 or j>0):\n",
        "\n",
        "        score_list = [score_matrix[i-1][j-1], score_matrix[i-1][j], score_matrix[i][j-1]]\n",
        "\n",
        "        if max(score_list) == score_list[0]:\n",
        "            seq1_align += seq1[i-1]\n",
        "            seq2_align += seq2[j-1]\n",
        "            i -= 1\n",
        "            j -= 1\n",
        "\n",
        "        elif seq1[i-1] == seq2[j-1]:\n",
        "            seq1_align += seq1[i-1]\n",
        "            seq2_align += seq2[j-1]\n",
        "            i -= 1\n",
        "            j -= 1\n",
        "\n",
        "        elif max(score_list) == score_list[1]:\n",
        "            seq1_align += seq1[i-1]\n",
        "            seq2_align = seq2_align + \"-\"\n",
        "            i -= 1\n",
        "\n",
        "        elif max(score_list) == score_list[-1]:\n",
        "            seq1_align = seq1_align + \"-\"\n",
        "            seq2_align += seq2[j-1]\n",
        "            j-=1\n",
        "\n",
        "    print(seq1_align[::-1])\n",
        "    print(seq2_align[::-1])"
      ],
      "metadata": {
        "id": "l1IexJDhwb1h"
      },
      "id": "l1IexJDhwb1h",
      "execution_count": 36,
      "outputs": []
    },
    {
      "cell_type": "code",
      "source": [
        "needleman_wunsch('CGTCTT', 'CATTCT', -2, 1, -1)\n",
        "needleman_wunsch('CAAGCT', 'CATTGT', -1, 1, -1)\n",
        "needleman_wunsch('AAATAA', 'ATCTAA', -1, 1, -1)"
      ],
      "metadata": {
        "colab": {
          "base_uri": "https://localhost:8080/"
        },
        "id": "IHEjhoqXwixa",
        "outputId": "1db1d885-e383-4446-a3ed-cd82b0cd3600"
      },
      "id": "IHEjhoqXwixa",
      "execution_count": 37,
      "outputs": [
        {
          "output_type": "stream",
          "name": "stdout",
          "text": [
            "score= 0\n",
            "CGTCTT\n",
            "CATTCT\n",
            "score= 1\n",
            "CAAGC-T\n",
            "C-ATTGT\n",
            "score= 2\n",
            "AAATAA\n",
            "ATCTAA\n"
          ]
        }
      ]
    },
    {
      "cell_type": "markdown",
      "source": [
        "Проверка с помощью внешнего инструмента:"
      ],
      "metadata": {
        "id": "uHddOZn7_7w9"
      },
      "id": "uHddOZn7_7w9"
    },
    {
      "cell_type": "code",
      "source": [
        "import Bio\n",
        "from Bio.Seq import Seq\n",
        "from Bio import Align\n",
        "\n",
        "sequences = [['CGTCTT', 'CATTCT'], ['CAAGCT', 'CATTGT'], ['AAATAA', 'ATCTAA']]\n",
        "matches = [1, 1, 1]\n",
        "mismatches = [-1, -1, -1]\n",
        "indels = [-2, -1, -1]"
      ],
      "metadata": {
        "id": "bPAX1w-JzCo5"
      },
      "id": "bPAX1w-JzCo5",
      "execution_count": 40,
      "outputs": []
    },
    {
      "cell_type": "code",
      "source": [
        "for i in range(len(sequences)):\n",
        "    aligner = Align.PairwiseAligner()\n",
        "    aligner.match_score = matches[i]\n",
        "    aligner.mismatch_score = mismatches[i]\n",
        "    aligner.gap_score = indels[i]\n",
        "\n",
        "    seq1, seq2 = sequences[i]\n",
        "    alignments = aligner.align(seq1, seq2)\n",
        "\n",
        "    print(f\"\\nAlignment {i+1}:\")\n",
        "    for alignment in alignments:\n",
        "        print(alignment)"
      ],
      "metadata": {
        "colab": {
          "base_uri": "https://localhost:8080/"
        },
        "id": "S1gl4fXqzNA9",
        "outputId": "528b88dd-5dde-4341-c786-db2f03bf2459"
      },
      "id": "S1gl4fXqzNA9",
      "execution_count": 41,
      "outputs": [
        {
          "output_type": "stream",
          "name": "stdout",
          "text": [
            "\n",
            "Alignment 1:\n",
            "target            0 CGTCTT 6\n",
            "                  0 |.|..| 6\n",
            "query             0 CATTCT 6\n",
            "\n",
            "\n",
            "Alignment 2:\n",
            "target            0 CAA-GCT 6\n",
            "                  0 ||.-|-| 7\n",
            "query             0 CATTG-T 6\n",
            "\n",
            "target            0 CA-AGCT 6\n",
            "                  0 ||-.|-| 7\n",
            "query             0 CATTG-T 6\n",
            "\n",
            "\n",
            "Alignment 3:\n",
            "target            0 AAATAA 6\n",
            "                  0 |..||| 6\n",
            "query             0 ATCTAA 6\n",
            "\n"
          ]
        }
      ]
    }
  ],
  "metadata": {
    "kernelspec": {
      "display_name": "Python 3 (ipykernel)",
      "language": "python",
      "name": "python3"
    },
    "language_info": {
      "codemirror_mode": {
        "name": "ipython",
        "version": 3
      },
      "file_extension": ".py",
      "mimetype": "text/x-python",
      "name": "python",
      "nbconvert_exporter": "python",
      "pygments_lexer": "ipython3",
      "version": "3.12.9"
    },
    "colab": {
      "provenance": []
    }
  },
  "nbformat": 4,
  "nbformat_minor": 5
}